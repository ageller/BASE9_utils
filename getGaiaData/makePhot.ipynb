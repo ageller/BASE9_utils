{
 "cells": [
  {
   "cell_type": "markdown",
   "id": "2e40a3ef",
   "metadata": {},
   "source": [
    "# Get data and create input files for BASE-9\n",
    "\n",
    "This notebook tests my codes to grab data from Gaia, Pan-STARRS, and 2MASS, then use Gaia data to estimate membership probabilities, and output a phot file for BASE-9"
   ]
  },
  {
   "cell_type": "markdown",
   "id": "5d2028a0",
   "metadata": {},
   "source": [
    "## Photometry will be downloaded from\n",
    "\n",
    "### Gaia:\n",
    "- https://gea.esac.esa.int/archive/documentation/GDR3/Gaia_archive/chap_datamodel/sec_dm_main_source_catalogue/ssec_dm_gaia_source.html\n",
    "- https://gea.esac.esa.int/archive/documentation/GDR3/index.html\n",
    "- https://gaia.aip.de/metadata/gaiadr3/\n",
    "\n",
    "### Pan-STARRS:\n",
    "- https://gaia.aip.de/metadata/gaiaedr3/panstarrs1_best_neighbour/\n",
    "- https://gea.esac.esa.int/archive/documentation/GDR2/Gaia_archive/chap_datamodel/sec_dm_external_catalogues/ssec_dm_panstarrs1_original_valid.html\n",
    "- https://allendowney.github.io/AstronomicalData/05_join.html\n",
    "\n",
    "### 2MASS:\n",
    "- https://www.cosmos.esa.int/web/gaia-users/archive/writing-queries\n",
    "- https://gaia.aip.de/metadata/gaiaedr3/tmass_psc_xsc_best_neighbour/\n",
    "- https://gea.esac.esa.int/archive/documentation/GEDR3/Gaia_archive/chap_datamodel/sec_dm_crossmatches/ssec_dm_tmass_psc_xsc_join.html\n",
    "- https://gea.esac.esa.int/archive/documentation/GDR2/Gaia_archive/chap_datamodel/sec_dm_external_catalogues/ssec_dm_tmass_original_valid.html\n",
    "\n"
   ]
  },
  {
   "cell_type": "code",
   "execution_count": null,
   "id": "9aa98708",
   "metadata": {},
   "outputs": [],
   "source": [
    "import pandas as pd\n",
    "import numpy as np\n",
    "import os"
   ]
  },
  {
   "cell_type": "code",
   "execution_count": null,
   "id": "45ab6207",
   "metadata": {},
   "outputs": [],
   "source": [
    "# if this is your first time running, you may need to create a config file for the dustmap code\n",
    "\n",
    "# from dustmaps.config import config\n",
    "# config.reset()"
   ]
  },
  {
   "cell_type": "code",
   "execution_count": null,
   "id": "dda70fcd",
   "metadata": {},
   "outputs": [],
   "source": [
    "# our code\n",
    "\n",
    "%load_ext autoreload\n",
    "%autoreload 2\n",
    "from getGaiaData import GaiaClusterMembers\n"
   ]
  },
  {
   "cell_type": "markdown",
   "id": "4191b2e1",
   "metadata": {},
   "source": [
    "## 1. Set the initial parameters for the cluster"
   ]
  },
  {
   "cell_type": "code",
   "execution_count": null,
   "id": "910a18af",
   "metadata": {},
   "outputs": [],
   "source": [
    "# define the cluster worker \n",
    "cluster = GaiaClusterMembers()"
   ]
  },
  {
   "cell_type": "code",
   "execution_count": null,
   "id": "ef0fb466",
   "metadata": {},
   "outputs": [],
   "source": [
    "clusterName ='NGC_2682' #Define cluster here, named as in the `OCcompiled_clean_v2.csv` file\n",
    "pwd = clusterName +'_dir' #Path to directory where output to be stored\n",
    "modelDirectory = '/projects/p31721/BASE9/base-models/' #Path where the stellar evollution models for BASE-9 are stored"
   ]
  },
  {
   "cell_type": "code",
   "execution_count": null,
   "id": "447b662e",
   "metadata": {
    "scrolled": false
   },
   "outputs": [],
   "source": [
    "# typically values in this cell do not need to be edited\n",
    "\n",
    "OCdf = pd.read_csv('OCcompiled_clean_v2.csv') #file with prior values for cluster centers from previous literature\n",
    "row = OCdf.loc[OCdf['ID'] == clusterName].iloc[0]\n",
    "dmod = 5.*np.log10(row['dist[pc]']) - 5.\n",
    "err_dmod = (5.*1./np.log(10.)*(1./row['dist[pc]']))*row['err_dist[pc]'] # error propagation\n",
    "try:\n",
    "    os.makedirs(pwd)\n",
    "    os.makedirs(os.path.join(pwd,'plots'))\n",
    "except:\n",
    "    print('WARNING: unable to create directory:',pwd)\n",
    "    next\n",
    "\n",
    "cluster.verbose = 1\n",
    "cluster.plotNameRoot = os.path.join(pwd,'plots')\n",
    "cluster.photOutputFileName = os.path.join(pwd,clusterName + '.phot')\n",
    "cluster.saveDataFile = os.path.join(pwd, clusterName + '.ecsv')\n",
    "cluster.yamlOutputFileName = os.path.join(pwd,'base9.yaml')\n",
    "cluster.yamlTemplateFileName = 'template_base9.yaml'\n",
    "cluster.yamlInputDict = {\n",
    "    'photFile' : clusterName + '.phot',\n",
    "    'outputFileBase' : pwd,\n",
    "    'modelDirectory' : modelDirectory,\n",
    "    'msRgbModel' : 5,\n",
    "    'Fe_H' : [row['[Fe/H]'], row['[Fe/H]'], np.max([row['err_[Fe/H]'], 0.3])],\n",
    "    'Av' : [row['Av[mag]'], row['Av[mag]'], np.max([row['err_Av[mag]'], 0.3])],\n",
    "    'Y' : [0.29, 0.29, 0.0], # keep the defaults\n",
    "    'carbonicity' : [0.38, 0.38, 0.0], # keep the defaults\n",
    "    'logAge' : [np.log10(row['age[Myr]']*10**6), np.log10(row['age[Myr]']*10**6), np.inf],\n",
    "    'distMod' : [dmod, dmod, np.max([err_dmod, 1.0])],\n",
    "}\n",
    "\n",
    "cluster.sig_fac = 10 #default is to include stars within 10 sigma bounds around cluster fit mean.\n",
    "cluster.deredden = True #Set to True to apply reddening corrections.\n",
    "\n"
   ]
  },
  {
   "cell_type": "markdown",
   "id": "2bcabdfb",
   "metadata": {},
   "source": [
    "## 2. Run the code to download data and generate files"
   ]
  },
  {
   "cell_type": "code",
   "execution_count": null,
   "id": "c0ab6800",
   "metadata": {
    "scrolled": false
   },
   "outputs": [],
   "source": [
    "# cluster.runAll(clusterName) #run this line to download Gaia data that will be saved to the file clusterName+'_dir/'+clusterName+'_GaiaData.ecsv'\n",
    "cluster.runAll(clusterName, filename=cluster.saveDataFile) #run this line if Gaia data has already been downloaded\n"
   ]
  },
  {
   "cell_type": "markdown",
   "id": "e29cf915",
   "metadata": {},
   "source": [
    "## 3. (Optional) Run interactive tool to remove field star manually\n",
    "\n",
    "For rich clusters, sometimes the Gaia memberships do not sufficiently remove field stars (e.g., stars far from the isochrone).  The tool below allows users to interactively select obvious field stars for removal.  The tool will also allow users to modify the starting values of the isochrone model by visually adjusting the isochrone fit.\n",
    "\n",
    "*Note:* you can define the filters to use in the CMD plots by setting keys in the cluster object (see `getGaiaData.py`).  Here is a list of the filters you can input for the mag, color1, and color2 arguments below.\n",
    "\n",
    " - Gaia filters: `phot_g_mean_mag`, `phot_bp_mean_mag`, `phot_rp_mean_mag`\n",
    " - Pan-Starss filters:`g_mean_psf_mag`,`r_mean_psf_mag`,`i_mean_psf_mag`,`z_mean_psf_mag`,`y_mean_psf_mag`\n",
    " - 2MASS filters: `j_m`, `h_m`, `ks_m`\n",
    "\n",
    "You will also need to download the `PARSEC.model` file from the [BASE-9 models GitHub repo](https://github.com/BayesianStellarEvolution/base-models) (or another model set, if you are not using PARSEC, and edit the code below accordingly.)"
   ]
  },
  {
   "cell_type": "code",
   "execution_count": null,
   "id": "15daf607",
   "metadata": {},
   "outputs": [],
   "source": [
    "from bokeh.plotting import *\n",
    "output_notebook()"
   ]
  },
  {
   "cell_type": "code",
   "execution_count": null,
   "id": "63377f6d",
   "metadata": {
    "scrolled": false
   },
   "outputs": [],
   "source": [
    "#interactive isochrone tool, may need to download additional dependencies to run\n",
    "\n",
    "layout = cluster.createInteractiveIsochrone('PARSEC.model', \n",
    "                                            initialGuess = [\n",
    "                                                cluster.yamlInputDict['logAge'][0], \n",
    "                                                cluster.yamlInputDict['Fe_H'][0],\n",
    "                                                cluster.yamlInputDict['distMod'][0],\n",
    "                                                cluster.yamlInputDict['Av'][0]\n",
    "                                            ],\n",
    "                                   mag ='phot_g_mean_mag', color1 ='phot_bp_mean_mag', color2 ='phot_rp_mean_mag', xrng = [-4,4], yrng = [24,5])\n",
    "# in order to run a Python callback in a Jupyter notbook, you need to include the following\n",
    "def bkapp(doc):\n",
    "    doc.add_root(layout)\n",
    "    \n",
    "show(bkapp)"
   ]
  },
  {
   "cell_type": "markdown",
   "id": "a05dc2e9",
   "metadata": {},
   "source": [
    "## (Optional) Interactively identify the region in parameter space containing the cluster members\n",
    "\n",
    "This may be helpful for a cluster that is heavily embedded in a rich field when our automated algorithms fail.   For instance, tou could use this prior to exectuing the `cluster.runAll` function above.  After identifying helpful imits here to narrow down the cluster members, you could apply those limits the `cluster.data` and then attempt `cluster.runAll`.\n"
   ]
  },
  {
   "cell_type": "code",
   "execution_count": null,
   "id": "660b9212",
   "metadata": {},
   "outputs": [],
   "source": [
    "# in case you want to read data from a file\n",
    "# cluster = GaiaClusterMembers()\n",
    "# cluster.deredden = False\n",
    "# cluster.pass_no = 2\n",
    "# cluster.readDataFromFile('myGaiaData.csv')\n",
    "\n",
    "layout = cluster.createInteractiveSelector()\n",
    "def bkapp(doc):\n",
    "    doc.add_root(layout)\n",
    "show(bkapp)"
   ]
  }
 ],
 "metadata": {
  "kernelspec": {
   "display_name": "Python 3 (ipykernel)",
   "language": "python",
   "name": "python3"
  },
  "language_info": {
   "codemirror_mode": {
    "name": "ipython",
    "version": 3
   },
   "file_extension": ".py",
   "mimetype": "text/x-python",
   "name": "python",
   "nbconvert_exporter": "python",
   "pygments_lexer": "ipython3",
   "version": "3.10.9"
  }
 },
 "nbformat": 4,
 "nbformat_minor": 5
}
