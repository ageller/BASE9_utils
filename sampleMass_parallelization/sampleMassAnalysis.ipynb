{
 "cells": [
  {
   "cell_type": "code",
   "execution_count": 1,
   "id": "8a8bcf9a",
   "metadata": {},
   "outputs": [],
   "source": [
    "import pandas as pd\n",
    "import numpy as np\n",
    "import matplotlib.pyplot as plt"
   ]
  },
  {
   "cell_type": "code",
   "execution_count": 2,
   "id": "41cbba27",
   "metadata": {},
   "outputs": [],
   "source": [
    "def write_data(clusterName):\n",
    "    new = pd.DataFrame(columns=['source_id', 'member','binary','m1Median','qMedian'])\n",
    "\n",
    "    pwd = '/Users/annachilds/myBASE9/paper_data/'+clusterName+'_dir/'\n",
    "    for i in range(0,500):\n",
    "        df = pd.read_csv('/Users/annachilds/myBASE9/paper_data/'+clusterName+'_dir/sampleMass/'+clusterName+'_'+str(i)+'.sampleMass.out',sep=' +')\n",
    "        stars = df['starId'].unique()\n",
    "        ids = []\n",
    "        for star in stars:\n",
    "            ids= int(star[1:])\n",
    "            membership = np.median(df['membership'][df['starId']==star])\n",
    "            if membership > 0:\n",
    "                member = True\n",
    "            else:\n",
    "                member = False\n",
    "            mass = np.median(df['mass'][df['starId']==star])\n",
    "            mass_std = np.std(df['mass'][df['starId']==star])\n",
    "            mass_16 = np.percentile(df['mass'][df['starId']==star], 16)\n",
    "            mass_84 = np.percentile(df['mass'][df['starId']==star], 84)\n",
    "            q = np.median(df['massRatio'][df['starId']==star])\n",
    "            q_std = np.std(df['massRatio'][df['starId']==star])\n",
    "            q_16 = np.percentile(df['massRatio'][df['starId']==star], 16)\n",
    "            q_84 = np.percentile(df['massRatio'][df['starId']==star], 84)\n",
    "            if q > 3*q_std:\n",
    "                binary = True\n",
    "            else:\n",
    "                binary = False\n",
    "            new = new.append({'source_id': ids, 'member': member,'binary':binary,'m1Median':mass,'m1Std':mass_std,'m1_16':mass_16,'m1_84':mass_84, 'qMedian':q, 'qStd':q_std,'q_16':q_16,'q_84':q_84 },ignore_index=True)\n",
    "\n",
    "\n",
    "    cluster = pd.read_csv('/Users/annachilds/myBASE9/paper_data/'+clusterName+'_dir/'+clusterName+'.csv', sep=' ')\n",
    "    df = cluster.merge(new,on='source_id')\n",
    "    df = df.rename(columns={'phot_g_mean_mag':'G','phot_bp_mean_mag':'G_BP','phot_rp_mean_mag':'G_RP',\n",
    "    'g_mean_psf_mag':'g_ps',\n",
    "    'r_mean_psf_mag':'r_ps',\n",
    "    'i_mean_psf_mag':'i_ps',\n",
    "    'z_mean_psf_mag':'z_ps',\n",
    "    'y_mean_psf_mag':'y_ps',\n",
    "    'phot_g_mean_mag_error':'sigG',\n",
    "    'phot_bp_mean_mag_error':'sigG_BP', \n",
    "    'phot_rp_mean_mag_error':'sigG_RP',\n",
    "    'g_mean_psf_mag_error':'sigg_ps',\n",
    "    'r_mean_psf_mag_error':'sigr_ps',\n",
    "    'i_mean_psf_mag_error':'sigi_ps',\n",
    "    'z_mean_psf_mag_error':'sigz_ps',\n",
    "    'y_mean_psf_mag_error':'sigy_ps',\n",
    "    'j_m':'J_2M',\n",
    "    'h_m':'H_2M',\n",
    "    'ks_m':'Ks_2M',\n",
    "    'j_msigcom':'sigJ_2M',\n",
    "    'h_msigcom':'sigH_2M',\n",
    "    'ks_msigcom':'sigKs_2M',\n",
    "    'membership':'CMprior'})\n",
    "    df.to_csv(pwd+clusterName+'.df',sep=' ')\n",
    "    print ('Done writing file')\n",
    "    return\n",
    "\n"
   ]
  },
  {
   "cell_type": "code",
   "execution_count": null,
   "id": "3e8243b6",
   "metadata": {},
   "outputs": [],
   "source": [
    "clusterName='NGC_188'\n",
    "write_data(clusterName)"
   ]
  },
  {
   "cell_type": "code",
   "execution_count": null,
   "id": "6575759e",
   "metadata": {},
   "outputs": [],
   "source": []
  }
 ],
 "metadata": {
  "kernelspec": {
   "display_name": "Python 3 (ipykernel)",
   "language": "python",
   "name": "python3"
  },
  "language_info": {
   "codemirror_mode": {
    "name": "ipython",
    "version": 3
   },
   "file_extension": ".py",
   "mimetype": "text/x-python",
   "name": "python",
   "nbconvert_exporter": "python",
   "pygments_lexer": "ipython3",
   "version": "3.10.5"
  }
 },
 "nbformat": 4,
 "nbformat_minor": 5
}
